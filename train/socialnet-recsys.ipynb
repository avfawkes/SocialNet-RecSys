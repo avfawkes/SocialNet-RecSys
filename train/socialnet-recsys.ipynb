{
 "cells": [
  {
   "cell_type": "markdown",
   "id": "52703321",
   "metadata": {
    "papermill": {
     "duration": 0.006606,
     "end_time": "2024-01-15T16:07:26.808725",
     "exception": false,
     "start_time": "2024-01-15T16:07:26.802119",
     "status": "completed"
    },
    "tags": []
   },
   "source": [
    "# Load tables"
   ]
  },
  {
   "cell_type": "markdown",
   "id": "75ae4e48",
   "metadata": {
    "papermill": {
     "duration": 0.005758,
     "end_time": "2024-01-15T16:07:26.820934",
     "exception": false,
     "start_time": "2024-01-15T16:07:26.815176",
     "status": "completed"
    },
    "tags": []
   },
   "source": [
    "You can load data from PostgreSQL DB specifying credentials or just unpickle pandas dataframe from attached dataset"
   ]
  },
  {
   "cell_type": "code",
   "execution_count": 1,
   "id": "83cd2aa5",
   "metadata": {
    "execution": {
     "iopub.execute_input": "2024-01-15T16:07:26.834171Z",
     "iopub.status.busy": "2024-01-15T16:07:26.833730Z",
     "iopub.status.idle": "2024-01-15T16:07:26.844485Z",
     "shell.execute_reply": "2024-01-15T16:07:26.843571Z"
    },
    "papermill": {
     "duration": 0.020128,
     "end_time": "2024-01-15T16:07:26.846701",
     "exception": false,
     "start_time": "2024-01-15T16:07:26.826573",
     "status": "completed"
    },
    "tags": []
   },
   "outputs": [],
   "source": [
    "load_mode = 'unpickle'\n",
    "# load_mode = 'sql'"
   ]
  },
  {
   "cell_type": "code",
   "execution_count": 2,
   "id": "02b7ddcc",
   "metadata": {
    "execution": {
     "iopub.execute_input": "2024-01-15T16:07:26.860034Z",
     "iopub.status.busy": "2024-01-15T16:07:26.859686Z",
     "iopub.status.idle": "2024-01-15T16:07:40.156103Z",
     "shell.execute_reply": "2024-01-15T16:07:40.154933Z"
    },
    "papermill": {
     "duration": 13.305881,
     "end_time": "2024-01-15T16:07:40.158416",
     "exception": false,
     "start_time": "2024-01-15T16:07:26.852535",
     "status": "completed"
    },
    "tags": []
   },
   "outputs": [
    {
     "name": "stdout",
     "output_type": "stream",
     "text": [
      "Collecting psycopg2-binary\r\n",
      "  Obtaining dependency information for psycopg2-binary from https://files.pythonhosted.org/packages/bc/0d/486e3fa27f39a00168abfcf14a3d8444f437f4b755cc34316da1124f293d/psycopg2_binary-2.9.9-cp310-cp310-manylinux_2_17_x86_64.manylinux2014_x86_64.whl.metadata\r\n",
      "  Downloading psycopg2_binary-2.9.9-cp310-cp310-manylinux_2_17_x86_64.manylinux2014_x86_64.whl.metadata (4.4 kB)\r\n",
      "Downloading psycopg2_binary-2.9.9-cp310-cp310-manylinux_2_17_x86_64.manylinux2014_x86_64.whl (3.0 MB)\r\n",
      "\u001b[2K   \u001b[90m━━━━━━━━━━━━━━━━━━━━━━━━━━━━━━━━━━━━━━━━\u001b[0m \u001b[32m3.0/3.0 MB\u001b[0m \u001b[31m30.5 MB/s\u001b[0m eta \u001b[36m0:00:00\u001b[0m\r\n",
      "\u001b[?25hInstalling collected packages: psycopg2-binary\r\n",
      "Successfully installed psycopg2-binary-2.9.9\r\n"
     ]
    }
   ],
   "source": [
    "!pip install psycopg2-binary"
   ]
  },
  {
   "cell_type": "code",
   "execution_count": 3,
   "id": "8649cf23",
   "metadata": {
    "execution": {
     "iopub.execute_input": "2024-01-15T16:07:40.173485Z",
     "iopub.status.busy": "2024-01-15T16:07:40.172843Z",
     "iopub.status.idle": "2024-01-15T16:07:41.202593Z",
     "shell.execute_reply": "2024-01-15T16:07:41.201419Z"
    },
    "papermill": {
     "duration": 1.040276,
     "end_time": "2024-01-15T16:07:41.205132",
     "exception": false,
     "start_time": "2024-01-15T16:07:40.164856",
     "status": "completed"
    },
    "tags": []
   },
   "outputs": [],
   "source": [
    "import sqlalchemy\n",
    "import pandas as pd\n",
    "from tqdm import tqdm"
   ]
  },
  {
   "cell_type": "code",
   "execution_count": 4,
   "id": "f6093556",
   "metadata": {
    "execution": {
     "iopub.execute_input": "2024-01-15T16:07:41.221680Z",
     "iopub.status.busy": "2024-01-15T16:07:41.220490Z",
     "iopub.status.idle": "2024-01-15T16:07:41.358954Z",
     "shell.execute_reply": "2024-01-15T16:07:41.357832Z"
    },
    "papermill": {
     "duration": 0.14932,
     "end_time": "2024-01-15T16:07:41.361571",
     "exception": false,
     "start_time": "2024-01-15T16:07:41.212251",
     "status": "completed"
    },
    "tags": []
   },
   "outputs": [],
   "source": [
    "db_url = sqlalchemy.engine.URL.create(\n",
    "    drivername='postgresql',\n",
    "    username='***',\n",
    "    password='***',\n",
    "    host='***',\n",
    "    port=1111,\n",
    "    database='***')\n",
    "\n",
    "engine = sqlalchemy.create_engine(db_url)"
   ]
  },
  {
   "cell_type": "code",
   "execution_count": 5,
   "id": "ea093e17",
   "metadata": {
    "execution": {
     "iopub.execute_input": "2024-01-15T16:07:41.376366Z",
     "iopub.status.busy": "2024-01-15T16:07:41.375977Z",
     "iopub.status.idle": "2024-01-15T16:07:41.382277Z",
     "shell.execute_reply": "2024-01-15T16:07:41.380957Z"
    },
    "papermill": {
     "duration": 0.016718,
     "end_time": "2024-01-15T16:07:41.384803",
     "exception": false,
     "start_time": "2024-01-15T16:07:41.368085",
     "status": "completed"
    },
    "tags": []
   },
   "outputs": [],
   "source": [
    "metadata_obj = sqlalchemy.MetaData()\n",
    "\n",
    "if load_mode == 'sql':\n",
    "    metadata_obj.reflect(bind=engine, only=['user_data', 'post_text_df', 'feed_data'])\n",
    "    df_user = pd.read_sql(sqlalchemy.select(metadata_obj.tables['user_data']), engine)\n",
    "    df_post = pd.read_sql(sqlalchemy.select(metadata_obj.tables['post_text_df']), engine)"
   ]
  },
  {
   "cell_type": "code",
   "execution_count": 6,
   "id": "8225174d",
   "metadata": {
    "execution": {
     "iopub.execute_input": "2024-01-15T16:07:41.400448Z",
     "iopub.status.busy": "2024-01-15T16:07:41.399679Z",
     "iopub.status.idle": "2024-01-15T16:07:41.406458Z",
     "shell.execute_reply": "2024-01-15T16:07:41.405219Z"
    },
    "papermill": {
     "duration": 0.017173,
     "end_time": "2024-01-15T16:07:41.408631",
     "exception": false,
     "start_time": "2024-01-15T16:07:41.391458",
     "status": "completed"
    },
    "tags": []
   },
   "outputs": [],
   "source": [
    "def batch_load_sql(query, chunksize=200000) -> pd.DataFrame:\n",
    "    engine = sqlalchemy.create_engine(db_url)\n",
    "    conn = engine.connect().execution_options(stream_results=True)\n",
    "    chunks = []\n",
    "    for chunk_dataframe in tqdm(pd.read_sql(query, conn, chunksize=chunksize)):\n",
    "        chunks.append(chunk_dataframe)\n",
    "    conn.close()\n",
    "    return pd.concat(chunks, ignore_index=True)"
   ]
  },
  {
   "cell_type": "code",
   "execution_count": 7,
   "id": "be2df25a",
   "metadata": {
    "execution": {
     "iopub.execute_input": "2024-01-15T16:07:41.424414Z",
     "iopub.status.busy": "2024-01-15T16:07:41.423809Z",
     "iopub.status.idle": "2024-01-15T16:07:41.428327Z",
     "shell.execute_reply": "2024-01-15T16:07:41.427480Z"
    },
    "papermill": {
     "duration": 0.014922,
     "end_time": "2024-01-15T16:07:41.430570",
     "exception": false,
     "start_time": "2024-01-15T16:07:41.415648",
     "status": "completed"
    },
    "tags": []
   },
   "outputs": [],
   "source": [
    "if load_mode == 'sql':\n",
    "    # 76892800 (68686455 if only 'view') rows / 200000 chunksize = 385 (344) iter\n",
    "    df_feed = batch_load_sql(sqlalchemy\n",
    "                             .select(metadata_obj.tables['feed_data'])\n",
    "                             .where(metadata_obj.tables['feed_data'].c.action == 'view'))"
   ]
  },
  {
   "cell_type": "markdown",
   "id": "a92c8e52",
   "metadata": {
    "papermill": {
     "duration": 0.006282,
     "end_time": "2024-01-15T16:07:41.443504",
     "exception": false,
     "start_time": "2024-01-15T16:07:41.437222",
     "status": "completed"
    },
    "tags": []
   },
   "source": [
    "### Unpickle"
   ]
  },
  {
   "cell_type": "code",
   "execution_count": 8,
   "id": "edaec274",
   "metadata": {
    "execution": {
     "iopub.execute_input": "2024-01-15T16:07:41.458336Z",
     "iopub.status.busy": "2024-01-15T16:07:41.457961Z",
     "iopub.status.idle": "2024-01-15T16:08:16.484418Z",
     "shell.execute_reply": "2024-01-15T16:08:16.483111Z"
    },
    "papermill": {
     "duration": 35.0374,
     "end_time": "2024-01-15T16:08:16.487689",
     "exception": false,
     "start_time": "2024-01-15T16:07:41.450289",
     "status": "completed"
    },
    "tags": []
   },
   "outputs": [],
   "source": [
    "if load_mode == 'unpickle':\n",
    "    df_feed = pd.read_pickle('/kaggle/input/kc-dl-prj3-catboost-dataset/df_feed.pkl')\n",
    "    df_user = pd.read_pickle('/kaggle/input/kc-dl-prj3-catboost-dataset/df_user.pkl')\n",
    "    df_post = pd.read_pickle('/kaggle/input/kc-dl-prj3-catboost-dataset/df_post.pkl')"
   ]
  },
  {
   "cell_type": "code",
   "execution_count": 9,
   "id": "31a43e0b",
   "metadata": {
    "execution": {
     "iopub.execute_input": "2024-01-15T16:08:16.503193Z",
     "iopub.status.busy": "2024-01-15T16:08:16.502802Z",
     "iopub.status.idle": "2024-01-15T16:08:16.523815Z",
     "shell.execute_reply": "2024-01-15T16:08:16.522703Z"
    },
    "papermill": {
     "duration": 0.031289,
     "end_time": "2024-01-15T16:08:16.525994",
     "exception": false,
     "start_time": "2024-01-15T16:08:16.494705",
     "status": "completed"
    },
    "tags": []
   },
   "outputs": [
    {
     "data": {
      "text/html": [
       "<div>\n",
       "<style scoped>\n",
       "    .dataframe tbody tr th:only-of-type {\n",
       "        vertical-align: middle;\n",
       "    }\n",
       "\n",
       "    .dataframe tbody tr th {\n",
       "        vertical-align: top;\n",
       "    }\n",
       "\n",
       "    .dataframe thead th {\n",
       "        text-align: right;\n",
       "    }\n",
       "</style>\n",
       "<table border=\"1\" class=\"dataframe\">\n",
       "  <thead>\n",
       "    <tr style=\"text-align: right;\">\n",
       "      <th></th>\n",
       "      <th>timestamp</th>\n",
       "      <th>user_id</th>\n",
       "      <th>post_id</th>\n",
       "      <th>action</th>\n",
       "      <th>target</th>\n",
       "    </tr>\n",
       "  </thead>\n",
       "  <tbody>\n",
       "    <tr>\n",
       "      <th>0</th>\n",
       "      <td>2021-10-20 18:57:50</td>\n",
       "      <td>100224</td>\n",
       "      <td>2160</td>\n",
       "      <td>view</td>\n",
       "      <td>0</td>\n",
       "    </tr>\n",
       "    <tr>\n",
       "      <th>1</th>\n",
       "      <td>2021-10-20 19:00:22</td>\n",
       "      <td>100224</td>\n",
       "      <td>1760</td>\n",
       "      <td>view</td>\n",
       "      <td>0</td>\n",
       "    </tr>\n",
       "    <tr>\n",
       "      <th>2</th>\n",
       "      <td>2021-10-20 19:02:17</td>\n",
       "      <td>100224</td>\n",
       "      <td>684</td>\n",
       "      <td>view</td>\n",
       "      <td>0</td>\n",
       "    </tr>\n",
       "  </tbody>\n",
       "</table>\n",
       "</div>"
      ],
      "text/plain": [
       "            timestamp  user_id  post_id action  target\n",
       "0 2021-10-20 18:57:50   100224     2160   view       0\n",
       "1 2021-10-20 19:00:22   100224     1760   view       0\n",
       "2 2021-10-20 19:02:17   100224      684   view       0"
      ]
     },
     "execution_count": 9,
     "metadata": {},
     "output_type": "execute_result"
    }
   ],
   "source": [
    "df_feed.head(3)"
   ]
  },
  {
   "cell_type": "code",
   "execution_count": 10,
   "id": "0208b24b",
   "metadata": {
    "execution": {
     "iopub.execute_input": "2024-01-15T16:08:16.541959Z",
     "iopub.status.busy": "2024-01-15T16:08:16.541591Z",
     "iopub.status.idle": "2024-01-15T16:08:16.554366Z",
     "shell.execute_reply": "2024-01-15T16:08:16.553290Z"
    },
    "papermill": {
     "duration": 0.023601,
     "end_time": "2024-01-15T16:08:16.556460",
     "exception": false,
     "start_time": "2024-01-15T16:08:16.532859",
     "status": "completed"
    },
    "tags": []
   },
   "outputs": [
    {
     "data": {
      "text/html": [
       "<div>\n",
       "<style scoped>\n",
       "    .dataframe tbody tr th:only-of-type {\n",
       "        vertical-align: middle;\n",
       "    }\n",
       "\n",
       "    .dataframe tbody tr th {\n",
       "        vertical-align: top;\n",
       "    }\n",
       "\n",
       "    .dataframe thead th {\n",
       "        text-align: right;\n",
       "    }\n",
       "</style>\n",
       "<table border=\"1\" class=\"dataframe\">\n",
       "  <thead>\n",
       "    <tr style=\"text-align: right;\">\n",
       "      <th></th>\n",
       "      <th>user_id</th>\n",
       "      <th>gender</th>\n",
       "      <th>age</th>\n",
       "      <th>country</th>\n",
       "      <th>city</th>\n",
       "      <th>exp_group</th>\n",
       "      <th>os</th>\n",
       "      <th>source</th>\n",
       "    </tr>\n",
       "  </thead>\n",
       "  <tbody>\n",
       "    <tr>\n",
       "      <th>0</th>\n",
       "      <td>200</td>\n",
       "      <td>1</td>\n",
       "      <td>34</td>\n",
       "      <td>Russia</td>\n",
       "      <td>Degtyarsk</td>\n",
       "      <td>3</td>\n",
       "      <td>Android</td>\n",
       "      <td>ads</td>\n",
       "    </tr>\n",
       "    <tr>\n",
       "      <th>1</th>\n",
       "      <td>201</td>\n",
       "      <td>0</td>\n",
       "      <td>37</td>\n",
       "      <td>Russia</td>\n",
       "      <td>Abakan</td>\n",
       "      <td>0</td>\n",
       "      <td>Android</td>\n",
       "      <td>ads</td>\n",
       "    </tr>\n",
       "    <tr>\n",
       "      <th>2</th>\n",
       "      <td>202</td>\n",
       "      <td>1</td>\n",
       "      <td>17</td>\n",
       "      <td>Russia</td>\n",
       "      <td>Smolensk</td>\n",
       "      <td>4</td>\n",
       "      <td>Android</td>\n",
       "      <td>ads</td>\n",
       "    </tr>\n",
       "  </tbody>\n",
       "</table>\n",
       "</div>"
      ],
      "text/plain": [
       "   user_id  gender  age country       city  exp_group       os source\n",
       "0      200       1   34  Russia  Degtyarsk          3  Android    ads\n",
       "1      201       0   37  Russia     Abakan          0  Android    ads\n",
       "2      202       1   17  Russia   Smolensk          4  Android    ads"
      ]
     },
     "execution_count": 10,
     "metadata": {},
     "output_type": "execute_result"
    }
   ],
   "source": [
    "df_user.head(3)"
   ]
  },
  {
   "cell_type": "code",
   "execution_count": 11,
   "id": "c639736d",
   "metadata": {
    "execution": {
     "iopub.execute_input": "2024-01-15T16:08:16.573170Z",
     "iopub.status.busy": "2024-01-15T16:08:16.572653Z",
     "iopub.status.idle": "2024-01-15T16:08:16.582444Z",
     "shell.execute_reply": "2024-01-15T16:08:16.581692Z"
    },
    "papermill": {
     "duration": 0.020349,
     "end_time": "2024-01-15T16:08:16.584499",
     "exception": false,
     "start_time": "2024-01-15T16:08:16.564150",
     "status": "completed"
    },
    "tags": []
   },
   "outputs": [
    {
     "data": {
      "text/html": [
       "<div>\n",
       "<style scoped>\n",
       "    .dataframe tbody tr th:only-of-type {\n",
       "        vertical-align: middle;\n",
       "    }\n",
       "\n",
       "    .dataframe tbody tr th {\n",
       "        vertical-align: top;\n",
       "    }\n",
       "\n",
       "    .dataframe thead th {\n",
       "        text-align: right;\n",
       "    }\n",
       "</style>\n",
       "<table border=\"1\" class=\"dataframe\">\n",
       "  <thead>\n",
       "    <tr style=\"text-align: right;\">\n",
       "      <th></th>\n",
       "      <th>post_id</th>\n",
       "      <th>text</th>\n",
       "      <th>topic</th>\n",
       "    </tr>\n",
       "  </thead>\n",
       "  <tbody>\n",
       "    <tr>\n",
       "      <th>0</th>\n",
       "      <td>1</td>\n",
       "      <td>UK economy facing major risks\\n\\nThe UK manufa...</td>\n",
       "      <td>business</td>\n",
       "    </tr>\n",
       "    <tr>\n",
       "      <th>1</th>\n",
       "      <td>2</td>\n",
       "      <td>Aids and climate top Davos agenda\\n\\nClimate c...</td>\n",
       "      <td>business</td>\n",
       "    </tr>\n",
       "    <tr>\n",
       "      <th>2</th>\n",
       "      <td>3</td>\n",
       "      <td>Asian quake hits European shares\\n\\nShares in ...</td>\n",
       "      <td>business</td>\n",
       "    </tr>\n",
       "  </tbody>\n",
       "</table>\n",
       "</div>"
      ],
      "text/plain": [
       "   post_id                                               text     topic\n",
       "0        1  UK economy facing major risks\\n\\nThe UK manufa...  business\n",
       "1        2  Aids and climate top Davos agenda\\n\\nClimate c...  business\n",
       "2        3  Asian quake hits European shares\\n\\nShares in ...  business"
      ]
     },
     "execution_count": 11,
     "metadata": {},
     "output_type": "execute_result"
    }
   ],
   "source": [
    "df_post.head(3)"
   ]
  },
  {
   "cell_type": "markdown",
   "id": "80c7f256",
   "metadata": {
    "papermill": {
     "duration": 0.007051,
     "end_time": "2024-01-15T16:08:16.598821",
     "exception": false,
     "start_time": "2024-01-15T16:08:16.591770",
     "status": "completed"
    },
    "tags": []
   },
   "source": [
    "# EDA"
   ]
  },
  {
   "cell_type": "code",
   "execution_count": 12,
   "id": "384ef3a0",
   "metadata": {
    "execution": {
     "iopub.execute_input": "2024-01-15T16:08:16.615492Z",
     "iopub.status.busy": "2024-01-15T16:08:16.614495Z",
     "iopub.status.idle": "2024-01-15T16:08:31.467298Z",
     "shell.execute_reply": "2024-01-15T16:08:31.466119Z"
    },
    "papermill": {
     "duration": 14.863796,
     "end_time": "2024-01-15T16:08:31.469836",
     "exception": false,
     "start_time": "2024-01-15T16:08:16.606040",
     "status": "completed"
    },
    "tags": []
   },
   "outputs": [],
   "source": [
    "FEED_SIZE = 2_000_000\n",
    "df_feed = df_feed.groupby('target').sample(FEED_SIZE//2)"
   ]
  },
  {
   "cell_type": "code",
   "execution_count": 13,
   "id": "170f5b44",
   "metadata": {
    "execution": {
     "iopub.execute_input": "2024-01-15T16:08:31.486292Z",
     "iopub.status.busy": "2024-01-15T16:08:31.485914Z",
     "iopub.status.idle": "2024-01-15T16:08:32.168589Z",
     "shell.execute_reply": "2024-01-15T16:08:32.167217Z"
    },
    "papermill": {
     "duration": 0.693913,
     "end_time": "2024-01-15T16:08:32.171239",
     "exception": false,
     "start_time": "2024-01-15T16:08:31.477326",
     "status": "completed"
    },
    "tags": []
   },
   "outputs": [],
   "source": [
    "df_feed['hour'] = df_feed.timestamp.dt.hour\n",
    "df_feed['dayofweek'] = df_feed.timestamp.dt.dayofweek\n",
    "df_feed['day'] = df_feed.timestamp.dt.day"
   ]
  },
  {
   "cell_type": "code",
   "execution_count": 14,
   "id": "2cdbb9a7",
   "metadata": {
    "execution": {
     "iopub.execute_input": "2024-01-15T16:08:32.188587Z",
     "iopub.status.busy": "2024-01-15T16:08:32.187821Z",
     "iopub.status.idle": "2024-01-15T16:08:34.217154Z",
     "shell.execute_reply": "2024-01-15T16:08:34.216058Z"
    },
    "papermill": {
     "duration": 2.040689,
     "end_time": "2024-01-15T16:08:34.219720",
     "exception": false,
     "start_time": "2024-01-15T16:08:32.179031",
     "status": "completed"
    },
    "tags": []
   },
   "outputs": [],
   "source": [
    "df_feed = df_feed.merge(df_user, how='left', on='user_id').merge(df_post, how='left', on='post_id')"
   ]
  },
  {
   "cell_type": "code",
   "execution_count": 15,
   "id": "00be1c92",
   "metadata": {
    "execution": {
     "iopub.execute_input": "2024-01-15T16:08:34.236530Z",
     "iopub.status.busy": "2024-01-15T16:08:34.236093Z",
     "iopub.status.idle": "2024-01-15T16:08:34.253592Z",
     "shell.execute_reply": "2024-01-15T16:08:34.252372Z"
    },
    "papermill": {
     "duration": 0.028537,
     "end_time": "2024-01-15T16:08:34.255767",
     "exception": false,
     "start_time": "2024-01-15T16:08:34.227230",
     "status": "completed"
    },
    "tags": []
   },
   "outputs": [
    {
     "data": {
      "text/html": [
       "<div>\n",
       "<style scoped>\n",
       "    .dataframe tbody tr th:only-of-type {\n",
       "        vertical-align: middle;\n",
       "    }\n",
       "\n",
       "    .dataframe tbody tr th {\n",
       "        vertical-align: top;\n",
       "    }\n",
       "\n",
       "    .dataframe thead th {\n",
       "        text-align: right;\n",
       "    }\n",
       "</style>\n",
       "<table border=\"1\" class=\"dataframe\">\n",
       "  <thead>\n",
       "    <tr style=\"text-align: right;\">\n",
       "      <th></th>\n",
       "      <th>timestamp</th>\n",
       "      <th>user_id</th>\n",
       "      <th>post_id</th>\n",
       "      <th>action</th>\n",
       "      <th>target</th>\n",
       "      <th>hour</th>\n",
       "      <th>dayofweek</th>\n",
       "      <th>day</th>\n",
       "      <th>gender</th>\n",
       "      <th>age</th>\n",
       "      <th>country</th>\n",
       "      <th>city</th>\n",
       "      <th>exp_group</th>\n",
       "      <th>os</th>\n",
       "      <th>source</th>\n",
       "      <th>text</th>\n",
       "      <th>topic</th>\n",
       "    </tr>\n",
       "  </thead>\n",
       "  <tbody>\n",
       "    <tr>\n",
       "      <th>0</th>\n",
       "      <td>2021-12-25 11:10:55</td>\n",
       "      <td>161251</td>\n",
       "      <td>1829</td>\n",
       "      <td>view</td>\n",
       "      <td>0</td>\n",
       "      <td>11</td>\n",
       "      <td>5</td>\n",
       "      <td>25</td>\n",
       "      <td>0</td>\n",
       "      <td>19</td>\n",
       "      <td>Russia</td>\n",
       "      <td>Novosibirsk</td>\n",
       "      <td>4</td>\n",
       "      <td>iOS</td>\n",
       "      <td>organic</td>\n",
       "      <td>Collins named UK Athletics chief\\n\\nUK Athleti...</td>\n",
       "      <td>sport</td>\n",
       "    </tr>\n",
       "    <tr>\n",
       "      <th>1</th>\n",
       "      <td>2021-10-21 13:40:07</td>\n",
       "      <td>99104</td>\n",
       "      <td>3802</td>\n",
       "      <td>view</td>\n",
       "      <td>0</td>\n",
       "      <td>13</td>\n",
       "      <td>3</td>\n",
       "      <td>21</td>\n",
       "      <td>0</td>\n",
       "      <td>44</td>\n",
       "      <td>Ukraine</td>\n",
       "      <td>Pidhorodne</td>\n",
       "      <td>2</td>\n",
       "      <td>Android</td>\n",
       "      <td>ads</td>\n",
       "      <td>AHMEDABAD\\nURGENT HELP NEEDED \\n\\nBLOOD TYPE :...</td>\n",
       "      <td>covid</td>\n",
       "    </tr>\n",
       "    <tr>\n",
       "      <th>2</th>\n",
       "      <td>2021-11-21 06:45:40</td>\n",
       "      <td>63562</td>\n",
       "      <td>5249</td>\n",
       "      <td>view</td>\n",
       "      <td>0</td>\n",
       "      <td>6</td>\n",
       "      <td>6</td>\n",
       "      <td>21</td>\n",
       "      <td>0</td>\n",
       "      <td>14</td>\n",
       "      <td>Russia</td>\n",
       "      <td>Opochka</td>\n",
       "      <td>2</td>\n",
       "      <td>Android</td>\n",
       "      <td>ads</td>\n",
       "      <td>In 1850 in Yorkshire, a boy chimney-sweep is f...</td>\n",
       "      <td>movie</td>\n",
       "    </tr>\n",
       "  </tbody>\n",
       "</table>\n",
       "</div>"
      ],
      "text/plain": [
       "            timestamp  user_id  post_id action  target  hour  dayofweek  day  \\\n",
       "0 2021-12-25 11:10:55   161251     1829   view       0    11          5   25   \n",
       "1 2021-10-21 13:40:07    99104     3802   view       0    13          3   21   \n",
       "2 2021-11-21 06:45:40    63562     5249   view       0     6          6   21   \n",
       "\n",
       "   gender  age  country         city  exp_group       os   source  \\\n",
       "0       0   19   Russia  Novosibirsk          4      iOS  organic   \n",
       "1       0   44  Ukraine   Pidhorodne          2  Android      ads   \n",
       "2       0   14   Russia      Opochka          2  Android      ads   \n",
       "\n",
       "                                                text  topic  \n",
       "0  Collins named UK Athletics chief\\n\\nUK Athleti...  sport  \n",
       "1  AHMEDABAD\\nURGENT HELP NEEDED \\n\\nBLOOD TYPE :...  covid  \n",
       "2  In 1850 in Yorkshire, a boy chimney-sweep is f...  movie  "
      ]
     },
     "execution_count": 15,
     "metadata": {},
     "output_type": "execute_result"
    }
   ],
   "source": [
    "df_feed.head(3)"
   ]
  },
  {
   "cell_type": "code",
   "execution_count": 16,
   "id": "c44c0e84",
   "metadata": {
    "execution": {
     "iopub.execute_input": "2024-01-15T16:08:34.273579Z",
     "iopub.status.busy": "2024-01-15T16:08:34.273168Z",
     "iopub.status.idle": "2024-01-15T16:08:34.300099Z",
     "shell.execute_reply": "2024-01-15T16:08:34.299172Z"
    },
    "papermill": {
     "duration": 0.038307,
     "end_time": "2024-01-15T16:08:34.302338",
     "exception": false,
     "start_time": "2024-01-15T16:08:34.264031",
     "status": "completed"
    },
    "tags": []
   },
   "outputs": [
    {
     "data": {
      "text/plain": [
       "(Timestamp('2021-10-01 06:01:40'),\n",
       " Timestamp('2021-12-29 23:43:27'),\n",
       " Timedelta('89 days 17:41:47'))"
      ]
     },
     "execution_count": 16,
     "metadata": {},
     "output_type": "execute_result"
    }
   ],
   "source": [
    "df_feed.timestamp.min(), df_feed.timestamp.max(), df_feed.timestamp.max()-df_feed.timestamp.min()"
   ]
  },
  {
   "cell_type": "code",
   "execution_count": 17,
   "id": "5e2e2fff",
   "metadata": {
    "execution": {
     "iopub.execute_input": "2024-01-15T16:08:34.321234Z",
     "iopub.status.busy": "2024-01-15T16:08:34.320873Z",
     "iopub.status.idle": "2024-01-15T16:08:34.370506Z",
     "shell.execute_reply": "2024-01-15T16:08:34.369322Z"
    },
    "papermill": {
     "duration": 0.062073,
     "end_time": "2024-01-15T16:08:34.372922",
     "exception": false,
     "start_time": "2024-01-15T16:08:34.310849",
     "status": "completed"
    },
    "tags": []
   },
   "outputs": [
    {
     "data": {
      "text/plain": [
       "Timestamp('2021-12-13 06:47:42.200000')"
      ]
     },
     "execution_count": 17,
     "metadata": {},
     "output_type": "execute_result"
    }
   ],
   "source": [
    "split_point = df_feed[['timestamp']].quantile(0.8, numeric_only=False).squeeze()\n",
    "split_point"
   ]
  },
  {
   "cell_type": "code",
   "execution_count": 18,
   "id": "1d79e40d",
   "metadata": {
    "execution": {
     "iopub.execute_input": "2024-01-15T16:08:34.390717Z",
     "iopub.status.busy": "2024-01-15T16:08:34.390301Z",
     "iopub.status.idle": "2024-01-15T16:08:44.628969Z",
     "shell.execute_reply": "2024-01-15T16:08:44.627757Z"
    },
    "papermill": {
     "duration": 10.253618,
     "end_time": "2024-01-15T16:08:44.634715",
     "exception": false,
     "start_time": "2024-01-15T16:08:34.381097",
     "status": "completed"
    },
    "tags": []
   },
   "outputs": [],
   "source": [
    "df_train = df_feed[df_feed.timestamp < split_point].drop(['timestamp', 'action'], axis=1)\n",
    "df_test = df_feed[df_feed.timestamp >= split_point].drop(['timestamp', 'action'], axis=1)"
   ]
  },
  {
   "cell_type": "code",
   "execution_count": 19,
   "id": "98789c84",
   "metadata": {
    "execution": {
     "iopub.execute_input": "2024-01-15T16:08:44.660706Z",
     "iopub.status.busy": "2024-01-15T16:08:44.660286Z",
     "iopub.status.idle": "2024-01-15T16:08:44.690460Z",
     "shell.execute_reply": "2024-01-15T16:08:44.689353Z"
    },
    "papermill": {
     "duration": 0.042867,
     "end_time": "2024-01-15T16:08:44.692806",
     "exception": false,
     "start_time": "2024-01-15T16:08:44.649939",
     "status": "completed"
    },
    "tags": []
   },
   "outputs": [
    {
     "data": {
      "text/plain": [
       "target\n",
       "0    815832\n",
       "1    784168\n",
       "Name: count, dtype: int64"
      ]
     },
     "execution_count": 19,
     "metadata": {},
     "output_type": "execute_result"
    }
   ],
   "source": [
    "df_train.target.value_counts()"
   ]
  },
  {
   "cell_type": "code",
   "execution_count": 20,
   "id": "6c6c6d3a",
   "metadata": {
    "execution": {
     "iopub.execute_input": "2024-01-15T16:08:44.713380Z",
     "iopub.status.busy": "2024-01-15T16:08:44.712299Z",
     "iopub.status.idle": "2024-01-15T16:08:44.726945Z",
     "shell.execute_reply": "2024-01-15T16:08:44.725553Z"
    },
    "papermill": {
     "duration": 0.027795,
     "end_time": "2024-01-15T16:08:44.729619",
     "exception": false,
     "start_time": "2024-01-15T16:08:44.701824",
     "status": "completed"
    },
    "tags": []
   },
   "outputs": [
    {
     "data": {
      "text/plain": [
       "target\n",
       "1    215832\n",
       "0    184168\n",
       "Name: count, dtype: int64"
      ]
     },
     "execution_count": 20,
     "metadata": {},
     "output_type": "execute_result"
    }
   ],
   "source": [
    "df_test.target.value_counts()"
   ]
  },
  {
   "cell_type": "code",
   "execution_count": 21,
   "id": "e76e6b6f",
   "metadata": {
    "execution": {
     "iopub.execute_input": "2024-01-15T16:08:44.754379Z",
     "iopub.status.busy": "2024-01-15T16:08:44.753480Z",
     "iopub.status.idle": "2024-01-15T16:08:44.759200Z",
     "shell.execute_reply": "2024-01-15T16:08:44.758343Z"
    },
    "papermill": {
     "duration": 0.019901,
     "end_time": "2024-01-15T16:08:44.761804",
     "exception": false,
     "start_time": "2024-01-15T16:08:44.741903",
     "status": "completed"
    },
    "tags": []
   },
   "outputs": [],
   "source": [
    "num_cols = ['hour', 'dayofweek', 'day', 'age']\n",
    "cat_cols = ['gender', 'country', 'exp_group', 'os', 'source', 'topic']\n",
    "text_cols =  ['city', 'text']"
   ]
  },
  {
   "cell_type": "code",
   "execution_count": 22,
   "id": "03724514",
   "metadata": {
    "execution": {
     "iopub.execute_input": "2024-01-15T16:08:44.785219Z",
     "iopub.status.busy": "2024-01-15T16:08:44.784467Z",
     "iopub.status.idle": "2024-01-15T16:08:44.807774Z",
     "shell.execute_reply": "2024-01-15T16:08:44.806494Z"
    },
    "papermill": {
     "duration": 0.0392,
     "end_time": "2024-01-15T16:08:44.810445",
     "exception": false,
     "start_time": "2024-01-15T16:08:44.771245",
     "status": "completed"
    },
    "tags": []
   },
   "outputs": [
    {
     "data": {
      "text/html": [
       "<div>\n",
       "<style scoped>\n",
       "    .dataframe tbody tr th:only-of-type {\n",
       "        vertical-align: middle;\n",
       "    }\n",
       "\n",
       "    .dataframe tbody tr th {\n",
       "        vertical-align: top;\n",
       "    }\n",
       "\n",
       "    .dataframe thead th {\n",
       "        text-align: right;\n",
       "    }\n",
       "</style>\n",
       "<table border=\"1\" class=\"dataframe\">\n",
       "  <thead>\n",
       "    <tr style=\"text-align: right;\">\n",
       "      <th></th>\n",
       "      <th>user_id</th>\n",
       "      <th>post_id</th>\n",
       "      <th>target</th>\n",
       "      <th>hour</th>\n",
       "      <th>dayofweek</th>\n",
       "      <th>day</th>\n",
       "      <th>gender</th>\n",
       "      <th>age</th>\n",
       "      <th>country</th>\n",
       "      <th>city</th>\n",
       "      <th>exp_group</th>\n",
       "      <th>os</th>\n",
       "      <th>source</th>\n",
       "      <th>text</th>\n",
       "      <th>topic</th>\n",
       "    </tr>\n",
       "  </thead>\n",
       "  <tbody>\n",
       "    <tr>\n",
       "      <th>1</th>\n",
       "      <td>99104</td>\n",
       "      <td>3802</td>\n",
       "      <td>0</td>\n",
       "      <td>13</td>\n",
       "      <td>3</td>\n",
       "      <td>21</td>\n",
       "      <td>0</td>\n",
       "      <td>44</td>\n",
       "      <td>Ukraine</td>\n",
       "      <td>Pidhorodne</td>\n",
       "      <td>2</td>\n",
       "      <td>Android</td>\n",
       "      <td>ads</td>\n",
       "      <td>AHMEDABAD\\nURGENT HELP NEEDED \\n\\nBLOOD TYPE :...</td>\n",
       "      <td>covid</td>\n",
       "    </tr>\n",
       "    <tr>\n",
       "      <th>2</th>\n",
       "      <td>63562</td>\n",
       "      <td>5249</td>\n",
       "      <td>0</td>\n",
       "      <td>6</td>\n",
       "      <td>6</td>\n",
       "      <td>21</td>\n",
       "      <td>0</td>\n",
       "      <td>14</td>\n",
       "      <td>Russia</td>\n",
       "      <td>Opochka</td>\n",
       "      <td>2</td>\n",
       "      <td>Android</td>\n",
       "      <td>ads</td>\n",
       "      <td>In 1850 in Yorkshire, a boy chimney-sweep is f...</td>\n",
       "      <td>movie</td>\n",
       "    </tr>\n",
       "    <tr>\n",
       "      <th>3</th>\n",
       "      <td>137901</td>\n",
       "      <td>6736</td>\n",
       "      <td>0</td>\n",
       "      <td>14</td>\n",
       "      <td>0</td>\n",
       "      <td>8</td>\n",
       "      <td>0</td>\n",
       "      <td>24</td>\n",
       "      <td>Russia</td>\n",
       "      <td>Aleksandrov</td>\n",
       "      <td>4</td>\n",
       "      <td>Android</td>\n",
       "      <td>organic</td>\n",
       "      <td>Personally, I find the movie to be quite a goo...</td>\n",
       "      <td>movie</td>\n",
       "    </tr>\n",
       "    <tr>\n",
       "      <th>4</th>\n",
       "      <td>135020</td>\n",
       "      <td>5272</td>\n",
       "      <td>0</td>\n",
       "      <td>14</td>\n",
       "      <td>2</td>\n",
       "      <td>20</td>\n",
       "      <td>1</td>\n",
       "      <td>39</td>\n",
       "      <td>Russia</td>\n",
       "      <td>Irkutsk</td>\n",
       "      <td>2</td>\n",
       "      <td>iOS</td>\n",
       "      <td>organic</td>\n",
       "      <td>What can you say about a grainy, poorly filmed...</td>\n",
       "      <td>movie</td>\n",
       "    </tr>\n",
       "    <tr>\n",
       "      <th>5</th>\n",
       "      <td>158457</td>\n",
       "      <td>827</td>\n",
       "      <td>0</td>\n",
       "      <td>7</td>\n",
       "      <td>1</td>\n",
       "      <td>9</td>\n",
       "      <td>0</td>\n",
       "      <td>14</td>\n",
       "      <td>Russia</td>\n",
       "      <td>Tomsk</td>\n",
       "      <td>0</td>\n",
       "      <td>iOS</td>\n",
       "      <td>organic</td>\n",
       "      <td>Row threatens Hendrix museum plan\\n\\nProposals...</td>\n",
       "      <td>entertainment</td>\n",
       "    </tr>\n",
       "    <tr>\n",
       "      <th>...</th>\n",
       "      <td>...</td>\n",
       "      <td>...</td>\n",
       "      <td>...</td>\n",
       "      <td>...</td>\n",
       "      <td>...</td>\n",
       "      <td>...</td>\n",
       "      <td>...</td>\n",
       "      <td>...</td>\n",
       "      <td>...</td>\n",
       "      <td>...</td>\n",
       "      <td>...</td>\n",
       "      <td>...</td>\n",
       "      <td>...</td>\n",
       "      <td>...</td>\n",
       "      <td>...</td>\n",
       "    </tr>\n",
       "    <tr>\n",
       "      <th>1999993</th>\n",
       "      <td>151809</td>\n",
       "      <td>5217</td>\n",
       "      <td>1</td>\n",
       "      <td>7</td>\n",
       "      <td>3</td>\n",
       "      <td>2</td>\n",
       "      <td>0</td>\n",
       "      <td>26</td>\n",
       "      <td>Russia</td>\n",
       "      <td>Moscow</td>\n",
       "      <td>2</td>\n",
       "      <td>iOS</td>\n",
       "      <td>organic</td>\n",
       "      <td>This was awful. Andie Macdowell is a terrible ...</td>\n",
       "      <td>movie</td>\n",
       "    </tr>\n",
       "    <tr>\n",
       "      <th>1999994</th>\n",
       "      <td>21363</td>\n",
       "      <td>1531</td>\n",
       "      <td>1</td>\n",
       "      <td>7</td>\n",
       "      <td>2</td>\n",
       "      <td>10</td>\n",
       "      <td>1</td>\n",
       "      <td>19</td>\n",
       "      <td>Russia</td>\n",
       "      <td>Moscow</td>\n",
       "      <td>2</td>\n",
       "      <td>iOS</td>\n",
       "      <td>ads</td>\n",
       "      <td>Keegan hails comeback king Fowler\\n\\nMancheste...</td>\n",
       "      <td>sport</td>\n",
       "    </tr>\n",
       "    <tr>\n",
       "      <th>1999996</th>\n",
       "      <td>53790</td>\n",
       "      <td>1876</td>\n",
       "      <td>1</td>\n",
       "      <td>20</td>\n",
       "      <td>2</td>\n",
       "      <td>8</td>\n",
       "      <td>1</td>\n",
       "      <td>20</td>\n",
       "      <td>Russia</td>\n",
       "      <td>Moscow</td>\n",
       "      <td>2</td>\n",
       "      <td>iOS</td>\n",
       "      <td>ads</td>\n",
       "      <td>Laporte tinkers with team\\n\\nFrance coach Bern...</td>\n",
       "      <td>sport</td>\n",
       "    </tr>\n",
       "    <tr>\n",
       "      <th>1999998</th>\n",
       "      <td>94400</td>\n",
       "      <td>6839</td>\n",
       "      <td>1</td>\n",
       "      <td>7</td>\n",
       "      <td>4</td>\n",
       "      <td>8</td>\n",
       "      <td>1</td>\n",
       "      <td>51</td>\n",
       "      <td>Russia</td>\n",
       "      <td>Arsk</td>\n",
       "      <td>1</td>\n",
       "      <td>Android</td>\n",
       "      <td>ads</td>\n",
       "      <td>OK its not the best film Ive ever seen but at ...</td>\n",
       "      <td>movie</td>\n",
       "    </tr>\n",
       "    <tr>\n",
       "      <th>1999999</th>\n",
       "      <td>38593</td>\n",
       "      <td>6584</td>\n",
       "      <td>1</td>\n",
       "      <td>11</td>\n",
       "      <td>6</td>\n",
       "      <td>12</td>\n",
       "      <td>0</td>\n",
       "      <td>26</td>\n",
       "      <td>Russia</td>\n",
       "      <td>Saransk</td>\n",
       "      <td>2</td>\n",
       "      <td>Android</td>\n",
       "      <td>ads</td>\n",
       "      <td>Id give this film a zero if I could. How anyon...</td>\n",
       "      <td>movie</td>\n",
       "    </tr>\n",
       "  </tbody>\n",
       "</table>\n",
       "<p>1600000 rows × 15 columns</p>\n",
       "</div>"
      ],
      "text/plain": [
       "         user_id  post_id  target  hour  dayofweek  day  gender  age  country  \\\n",
       "1          99104     3802       0    13          3   21       0   44  Ukraine   \n",
       "2          63562     5249       0     6          6   21       0   14   Russia   \n",
       "3         137901     6736       0    14          0    8       0   24   Russia   \n",
       "4         135020     5272       0    14          2   20       1   39   Russia   \n",
       "5         158457      827       0     7          1    9       0   14   Russia   \n",
       "...          ...      ...     ...   ...        ...  ...     ...  ...      ...   \n",
       "1999993   151809     5217       1     7          3    2       0   26   Russia   \n",
       "1999994    21363     1531       1     7          2   10       1   19   Russia   \n",
       "1999996    53790     1876       1    20          2    8       1   20   Russia   \n",
       "1999998    94400     6839       1     7          4    8       1   51   Russia   \n",
       "1999999    38593     6584       1    11          6   12       0   26   Russia   \n",
       "\n",
       "                city  exp_group       os   source  \\\n",
       "1         Pidhorodne          2  Android      ads   \n",
       "2            Opochka          2  Android      ads   \n",
       "3        Aleksandrov          4  Android  organic   \n",
       "4            Irkutsk          2      iOS  organic   \n",
       "5              Tomsk          0      iOS  organic   \n",
       "...              ...        ...      ...      ...   \n",
       "1999993       Moscow          2      iOS  organic   \n",
       "1999994       Moscow          2      iOS      ads   \n",
       "1999996       Moscow          2      iOS      ads   \n",
       "1999998         Arsk          1  Android      ads   \n",
       "1999999      Saransk          2  Android      ads   \n",
       "\n",
       "                                                      text          topic  \n",
       "1        AHMEDABAD\\nURGENT HELP NEEDED \\n\\nBLOOD TYPE :...          covid  \n",
       "2        In 1850 in Yorkshire, a boy chimney-sweep is f...          movie  \n",
       "3        Personally, I find the movie to be quite a goo...          movie  \n",
       "4        What can you say about a grainy, poorly filmed...          movie  \n",
       "5        Row threatens Hendrix museum plan\\n\\nProposals...  entertainment  \n",
       "...                                                    ...            ...  \n",
       "1999993  This was awful. Andie Macdowell is a terrible ...          movie  \n",
       "1999994  Keegan hails comeback king Fowler\\n\\nMancheste...          sport  \n",
       "1999996  Laporte tinkers with team\\n\\nFrance coach Bern...          sport  \n",
       "1999998  OK its not the best film Ive ever seen but at ...          movie  \n",
       "1999999  Id give this film a zero if I could. How anyon...          movie  \n",
       "\n",
       "[1600000 rows x 15 columns]"
      ]
     },
     "execution_count": 22,
     "metadata": {},
     "output_type": "execute_result"
    }
   ],
   "source": [
    "df_train"
   ]
  },
  {
   "cell_type": "code",
   "execution_count": 23,
   "id": "f2c186b7",
   "metadata": {
    "execution": {
     "iopub.execute_input": "2024-01-15T16:08:44.831603Z",
     "iopub.status.busy": "2024-01-15T16:08:44.830761Z",
     "iopub.status.idle": "2024-01-15T16:08:45.157844Z",
     "shell.execute_reply": "2024-01-15T16:08:45.156925Z"
    },
    "papermill": {
     "duration": 0.341209,
     "end_time": "2024-01-15T16:08:45.160851",
     "exception": false,
     "start_time": "2024-01-15T16:08:44.819642",
     "status": "completed"
    },
    "tags": []
   },
   "outputs": [],
   "source": [
    "X_train = df_train.drop(['target', 'user_id', 'post_id'], axis=1)\n",
    "X_test = df_test.drop(['target', 'user_id', 'post_id'], axis=1)\n",
    "\n",
    "y_train = df_train['target']\n",
    "y_test = df_test['target']"
   ]
  },
  {
   "cell_type": "markdown",
   "id": "55975855",
   "metadata": {
    "papermill": {
     "duration": 0.013203,
     "end_time": "2024-01-15T16:08:45.184409",
     "exception": false,
     "start_time": "2024-01-15T16:08:45.171206",
     "status": "completed"
    },
    "tags": []
   },
   "source": [
    "# Model"
   ]
  },
  {
   "cell_type": "code",
   "execution_count": 24,
   "id": "73dd4b4b",
   "metadata": {
    "execution": {
     "iopub.execute_input": "2024-01-15T16:08:45.209816Z",
     "iopub.status.busy": "2024-01-15T16:08:45.208985Z",
     "iopub.status.idle": "2024-01-15T16:25:40.165572Z",
     "shell.execute_reply": "2024-01-15T16:25:40.164037Z"
    },
    "papermill": {
     "duration": 1014.972665,
     "end_time": "2024-01-15T16:25:40.168238",
     "exception": false,
     "start_time": "2024-01-15T16:08:45.195573",
     "status": "completed"
    },
    "tags": []
   },
   "outputs": [
    {
     "name": "stdout",
     "output_type": "stream",
     "text": [
      "0:\tlearn: 0.6822516\ttest: 0.6863945\tbest: 0.6863945 (0)\ttotal: 3.11s\tremaining: 10m 18s\n",
      "10:\tlearn: 0.6719412\ttest: 0.6802253\tbest: 0.6791848 (4)\ttotal: 26.7s\tremaining: 7m 38s\n",
      "20:\tlearn: 0.6697809\ttest: 0.6785159\tbest: 0.6784691 (19)\ttotal: 49s\tremaining: 6m 57s\n",
      "30:\tlearn: 0.6685566\ttest: 0.6774916\tbest: 0.6774846 (29)\ttotal: 1m 11s\tremaining: 6m 30s\n",
      "40:\tlearn: 0.6663139\ttest: 0.6755065\tbest: 0.6755065 (40)\ttotal: 1m 33s\tremaining: 6m 1s\n",
      "50:\tlearn: 0.6652702\ttest: 0.6745258\tbest: 0.6745258 (50)\ttotal: 1m 54s\tremaining: 5m 33s\n",
      "60:\tlearn: 0.6625722\ttest: 0.6724237\tbest: 0.6724237 (60)\ttotal: 2m 17s\tremaining: 5m 12s\n",
      "70:\tlearn: 0.6612337\ttest: 0.6713301\tbest: 0.6713301 (70)\ttotal: 2m 38s\tremaining: 4m 48s\n",
      "80:\tlearn: 0.6591739\ttest: 0.6695369\tbest: 0.6695369 (80)\ttotal: 3m 1s\tremaining: 4m 25s\n",
      "90:\tlearn: 0.6583663\ttest: 0.6689582\tbest: 0.6689582 (90)\ttotal: 3m 23s\tremaining: 4m 3s\n",
      "100:\tlearn: 0.6576228\ttest: 0.6684056\tbest: 0.6684056 (100)\ttotal: 3m 43s\tremaining: 3m 39s\n",
      "110:\tlearn: 0.6571930\ttest: 0.6681492\tbest: 0.6681492 (110)\ttotal: 4m 4s\tremaining: 3m 16s\n",
      "120:\tlearn: 0.6566332\ttest: 0.6677567\tbest: 0.6677567 (120)\ttotal: 4m 25s\tremaining: 2m 53s\n",
      "130:\tlearn: 0.6562000\ttest: 0.6674251\tbest: 0.6674251 (128)\ttotal: 4m 46s\tremaining: 2m 30s\n",
      "140:\tlearn: 0.6557939\ttest: 0.6672155\tbest: 0.6672155 (140)\ttotal: 5m 7s\tremaining: 2m 8s\n",
      "150:\tlearn: 0.6554630\ttest: 0.6669820\tbest: 0.6669820 (150)\ttotal: 5m 28s\tremaining: 1m 46s\n",
      "160:\tlearn: 0.6550877\ttest: 0.6666987\tbest: 0.6666987 (160)\ttotal: 5m 48s\tremaining: 1m 24s\n",
      "170:\tlearn: 0.6547987\ttest: 0.6664056\tbest: 0.6664056 (170)\ttotal: 6m 10s\tremaining: 1m 2s\n",
      "180:\tlearn: 0.6542435\ttest: 0.6660415\tbest: 0.6660415 (180)\ttotal: 6m 30s\tremaining: 41s\n",
      "190:\tlearn: 0.6539963\ttest: 0.6658783\tbest: 0.6658783 (190)\ttotal: 6m 50s\tremaining: 19.4s\n",
      "199:\tlearn: 0.6536487\ttest: 0.6656414\tbest: 0.6656414 (199)\ttotal: 7m 9s\tremaining: 0us\n",
      "\n",
      "bestTest = 0.6656414145\n",
      "bestIteration = 199\n",
      "\n"
     ]
    },
    {
     "name": "stderr",
     "output_type": "stream",
     "text": [
      "CatBoost is using more CPU RAM (22.8GiB) than the limit (22GiB)\n",
      "Resource CPU RAM: functionWithResourceUsage.ResourceUsage(130240512) > ResourceQuota(0)\n",
      "Resource CPU RAM: functionWithResourceUsage.ResourceUsage(130240512) > ResourceQuota(0)\n",
      "Resource CPU RAM: functionWithResourceUsage.ResourceUsage(130240512) > ResourceQuota(0)\n",
      "Resource CPU RAM: functionWithResourceUsage.ResourceUsage(130240512) > ResourceQuota(0)\n"
     ]
    },
    {
     "data": {
      "text/plain": [
       "<catboost.core.CatBoostClassifier at 0x7baddd93f8b0>"
      ]
     },
     "execution_count": 24,
     "metadata": {},
     "output_type": "execute_result"
    }
   ],
   "source": [
    "from catboost import CatBoostClassifier\n",
    "\n",
    "model = CatBoostClassifier(\n",
    "                           used_ram_limit='22gb',\n",
    "                           iterations=200,\n",
    "                           learning_rate=1,\n",
    "                           depth=2)\n",
    "\n",
    "model.fit(X_train,\n",
    "          y_train,\n",
    "          cat_features=cat_cols,\n",
    "          text_features=text_cols,\n",
    "          eval_set=(X_test,y_test),\n",
    "          verbose=10,\n",
    "          use_best_model=True)"
   ]
  },
  {
   "cell_type": "code",
   "execution_count": 25,
   "id": "191b815a",
   "metadata": {
    "execution": {
     "iopub.execute_input": "2024-01-15T16:25:40.192656Z",
     "iopub.status.busy": "2024-01-15T16:25:40.192114Z",
     "iopub.status.idle": "2024-01-15T16:27:44.157442Z",
     "shell.execute_reply": "2024-01-15T16:27:44.156296Z"
    },
    "papermill": {
     "duration": 123.981051,
     "end_time": "2024-01-15T16:27:44.160100",
     "exception": false,
     "start_time": "2024-01-15T16:25:40.179049",
     "status": "completed"
    },
    "tags": []
   },
   "outputs": [
    {
     "name": "stdout",
     "output_type": "stream",
     "text": [
      "Качество на трейне: 0.6549126151945693\n",
      "Качество на тесте: 0.6400275423351892\n"
     ]
    }
   ],
   "source": [
    "from sklearn.metrics import roc_auc_score\n",
    "\n",
    "print(f\"Качество на трейне: {roc_auc_score(y_train, model.predict_proba(X_train)[:, 1])}\")\n",
    "print(f\"Качество на тесте: {roc_auc_score(y_test, model.predict_proba(X_test)[:, 1])}\")"
   ]
  },
  {
   "cell_type": "code",
   "execution_count": 26,
   "id": "bb5a56a5",
   "metadata": {
    "execution": {
     "iopub.execute_input": "2024-01-15T16:27:44.184526Z",
     "iopub.status.busy": "2024-01-15T16:27:44.183484Z",
     "iopub.status.idle": "2024-01-15T16:27:44.272961Z",
     "shell.execute_reply": "2024-01-15T16:27:44.271624Z"
    },
    "papermill": {
     "duration": 0.104535,
     "end_time": "2024-01-15T16:27:44.275754",
     "exception": false,
     "start_time": "2024-01-15T16:27:44.171219",
     "status": "completed"
    },
    "tags": []
   },
   "outputs": [],
   "source": [
    "model.save_model('catboost_model', format=\"cbm\")              "
   ]
  }
 ],
 "metadata": {
  "kaggle": {
   "accelerator": "none",
   "dataSources": [
    {
     "datasetId": 3974906,
     "sourceId": 6922420,
     "sourceType": "datasetVersion"
    }
   ],
   "dockerImageVersionId": 30635,
   "isGpuEnabled": false,
   "isInternetEnabled": true,
   "language": "python",
   "sourceType": "notebook"
  },
  "kernelspec": {
   "display_name": "Python 3",
   "language": "python",
   "name": "python3"
  },
  "language_info": {
   "codemirror_mode": {
    "name": "ipython",
    "version": 3
   },
   "file_extension": ".py",
   "mimetype": "text/x-python",
   "name": "python",
   "nbconvert_exporter": "python",
   "pygments_lexer": "ipython3",
   "version": "3.10.12"
  },
  "papermill": {
   "default_parameters": {},
   "duration": 1224.39109,
   "end_time": "2024-01-15T16:27:48.216044",
   "environment_variables": {},
   "exception": null,
   "input_path": "__notebook__.ipynb",
   "output_path": "__notebook__.ipynb",
   "parameters": {},
   "start_time": "2024-01-15T16:07:23.824954",
   "version": "2.4.0"
  }
 },
 "nbformat": 4,
 "nbformat_minor": 5
}
